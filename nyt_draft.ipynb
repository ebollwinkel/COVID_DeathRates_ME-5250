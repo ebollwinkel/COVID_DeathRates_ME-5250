{
 "cells": [
  {
   "cell_type": "code",
   "execution_count": 11,
   "metadata": {},
   "outputs": [],
   "source": [
    "import requests\n",
    "from bs4 import BeautifulSoup\n",
    "\n",
    "URL = \"https://www.worldometers.info/coronavirus/#countries\"\n",
    "page = requests.get(URL)\n",
    "\n",
    "soup = BeautifulSoup(page.content, \"html.parser\")"
   ]
  },
  {
   "cell_type": "code",
   "execution_count": 30,
   "metadata": {},
   "outputs": [],
   "source": [
    "tables = soup.findChildren('table')"
   ]
  },
  {
   "cell_type": "code",
   "execution_count": 35,
   "metadata": {},
   "outputs": [
    {
     "name": "stdout",
     "output_type": "stream",
     "text": [
      "9\n",
      "{'id': 'main_table_countries_today', 'class': ['table', 'table-bordered', 'table-hover', 'main_table_countries'], 'style': 'width:100%;margin-top: 0px !important;display:none;'}\n"
     ]
    }
   ],
   "source": [
    "my_table = tables[0]\n",
    "print(len(my_table))\n",
    "print(my_table.attrs)"
   ]
  },
  {
   "cell_type": "code",
   "execution_count": 46,
   "metadata": {},
   "outputs": [
    {
     "name": "stdout",
     "output_type": "stream",
     "text": [
      "247\n"
     ]
    },
    {
     "ename": "KeyError",
     "evalue": "'href'",
     "output_type": "error",
     "traceback": [
      "\u001b[1;31m---------------------------------------------------------------------------\u001b[0m",
      "\u001b[1;31mKeyError\u001b[0m                                  Traceback (most recent call last)",
      "\u001b[1;32m<ipython-input-46-072ba7f0c657>\u001b[0m in \u001b[0;36m<module>\u001b[1;34m\u001b[0m\n\u001b[0;32m      1\u001b[0m \u001b[0mrows\u001b[0m \u001b[1;33m=\u001b[0m \u001b[0mmy_table\u001b[0m\u001b[1;33m.\u001b[0m\u001b[0mfindChildren\u001b[0m\u001b[1;33m(\u001b[0m\u001b[1;33m[\u001b[0m\u001b[1;34m'tr'\u001b[0m\u001b[1;33m]\u001b[0m\u001b[1;33m)\u001b[0m\u001b[1;33m\u001b[0m\u001b[1;33m\u001b[0m\u001b[0m\n\u001b[0;32m      2\u001b[0m \u001b[0mprint\u001b[0m\u001b[1;33m(\u001b[0m\u001b[0mlen\u001b[0m\u001b[1;33m(\u001b[0m\u001b[0mrows\u001b[0m\u001b[1;33m)\u001b[0m\u001b[1;33m)\u001b[0m\u001b[1;33m\u001b[0m\u001b[1;33m\u001b[0m\u001b[0m\n\u001b[1;32m----> 3\u001b[1;33m \u001b[0mprint\u001b[0m\u001b[1;33m(\u001b[0m\u001b[0mrows\u001b[0m\u001b[1;33m[\u001b[0m\u001b[1;36m0\u001b[0m\u001b[1;33m]\u001b[0m\u001b[1;33m[\u001b[0m\u001b[1;34m'href'\u001b[0m\u001b[1;33m]\u001b[0m\u001b[1;33m)\u001b[0m\u001b[1;33m\u001b[0m\u001b[1;33m\u001b[0m\u001b[0m\n\u001b[0m",
      "\u001b[1;32mc:\\Users\\olivi\\anaconda3\\lib\\site-packages\\bs4\\element.py\u001b[0m in \u001b[0;36m__getitem__\u001b[1;34m(self, key)\u001b[0m\n\u001b[0;32m   1404\u001b[0m         \"\"\"tag[key] returns the value of the 'key' attribute for the Tag,\n\u001b[0;32m   1405\u001b[0m         and throws an exception if it's not there.\"\"\"\n\u001b[1;32m-> 1406\u001b[1;33m         \u001b[1;32mreturn\u001b[0m \u001b[0mself\u001b[0m\u001b[1;33m.\u001b[0m\u001b[0mattrs\u001b[0m\u001b[1;33m[\u001b[0m\u001b[0mkey\u001b[0m\u001b[1;33m]\u001b[0m\u001b[1;33m\u001b[0m\u001b[1;33m\u001b[0m\u001b[0m\n\u001b[0m\u001b[0;32m   1407\u001b[0m \u001b[1;33m\u001b[0m\u001b[0m\n\u001b[0;32m   1408\u001b[0m     \u001b[1;32mdef\u001b[0m \u001b[0m__iter__\u001b[0m\u001b[1;33m(\u001b[0m\u001b[0mself\u001b[0m\u001b[1;33m)\u001b[0m\u001b[1;33m:\u001b[0m\u001b[1;33m\u001b[0m\u001b[1;33m\u001b[0m\u001b[0m\n",
      "\u001b[1;31mKeyError\u001b[0m: 'href'"
     ]
    }
   ],
   "source": [
    "rows = my_table.findChildren(['tr'])\n",
    "print(len(rows))\n",
    "print(rows[0]['href'])"
   ]
  },
  {
   "cell_type": "code",
   "execution_count": 27,
   "metadata": {},
   "outputs": [],
   "source": [
    "for row in rows:\n",
    "    cells = row.find_all(['td'])\n",
    "    for cell in cells:\n",
    "        if(cell.parserClass == 'odd'):\n",
    "            if cell.string: print (cell.string)"
   ]
  },
  {
   "cell_type": "code",
   "execution_count": 53,
   "metadata": {},
   "outputs": [],
   "source": [
    "import re\n",
    "import requests\n",
    "from bs4 import BeautifulSoup\n",
    "\n",
    "URL = \"https://www.nytimes.com/interactive/2021/world/covid-cases.html\"\n",
    "page = requests.get(URL)\n",
    "\n",
    "soup = BeautifulSoup(page.content, \"html.parser\")\n",
    "\n",
    "\n",
    "\n"
   ]
  },
  {
   "cell_type": "code",
   "execution_count": 113,
   "metadata": {},
   "outputs": [
    {
     "name": "stdout",
     "output_type": "stream",
     "text": [
      "2\n",
      "{'class': ['g-table', 'super-table', 'withchildren']}\n"
     ]
    }
   ],
   "source": [
    "tables = soup.findChildren('table')\n",
    "print(len(tables))\n",
    "my_table = tables[1]\n",
    "\n",
    "print(my_table.attrs)"
   ]
  },
  {
   "cell_type": "code",
   "execution_count": 111,
   "metadata": {},
   "outputs": [
    {
     "name": "stdout",
     "output_type": "stream",
     "text": [
      "10\n",
      "{'class': ['children']}\n",
      "<td class=\"name\">Czech Republic</td>\n",
      "<td class=\"bignum cases show-mobile\">55,460\n",
      "\t</td>\n",
      "<td class=\"num cases show-mobile\">520\n",
      "\t</td>\n",
      "<td class=\"chart cases wider show-mobile\"><div class=\"g-grid svelte-1jt4ctz\"><span aria-label=\"+11,345%\" class=\"pct-change svelte-1jt4ctz\">+11,345%</span>\n",
      "<img alt=\"cases trajectory last two weeks\" src=\"https://static01.nyt.com/newsgraphics/2021/coronavirus-tracking/images/svg/timeseries/CZE/CZE-cases-two-weeks.svg\"/></div>\n",
      "</td>\n",
      "<td class=\"bignum\">6.0\n",
      "\t</td>\n",
      "<td class=\"num td-end\">0.06</td>\n",
      "<td class=\"num vax td-end\"><span style=\"color: #cc826a;\">65%</span></td>\n",
      "\n",
      "\n",
      "<td class=\"name\">San Marino</td>\n",
      "<td class=\"bignum cases show-mobile\">53\n",
      "\t</td>\n",
      "<td class=\"num cases show-mobile\">156\n",
      "\t</td>\n",
      "<td class=\"chart cases wider show-mobile\"><div class=\"g-grid svelte-1jt4ctz\"><span aria-label=\"+392%\" class=\"pct-change svelte-1jt4ctz\">+392%</span>\n",
      "<img alt=\"cases trajectory last two weeks\" src=\"https://static01.nyt.com/newsgraphics/2021/coronavirus-tracking/images/svg/timeseries/SMR/SMR-cases-two-weeks.svg\"/></div>\n",
      "</td>\n",
      "<td class=\"bignum\">0\n",
      "\t</td>\n",
      "<td class=\"num td-end is-dash\">—</td>\n",
      "<td class=\"num vax td-end is-dash\"><span style=\"color: rgba(0, 0, 0, 0.1);\">—</span></td>\n",
      "\n",
      "\n",
      "<td class=\"name\">Brunei</td>\n",
      "<td class=\"bignum cases show-mobile\">649\n",
      "\t</td>\n",
      "<td class=\"num cases show-mobile\">150\n",
      "\t</td>\n",
      "<td class=\"chart cases wider show-mobile\"><div class=\"g-grid svelte-1jt4ctz\"><span aria-label=\"-42%\" class=\"pct-change svelte-1jt4ctz\">–42%</span>\n",
      "<img alt=\"cases trajectory last two weeks\" src=\"https://static01.nyt.com/newsgraphics/2021/coronavirus-tracking/images/svg/timeseries/BRN/BRN-cases-two-weeks.svg\"/></div>\n",
      "</td>\n",
      "<td class=\"bignum\">0\n",
      "\t</td>\n",
      "<td class=\"num td-end is-dash\">—</td>\n",
      "<td class=\"num vax td-end\"><span style=\"color: #2f7264;\">&gt;99%*</span></td>\n",
      "\n",
      "\n",
      "<td class=\"name\">Hong Kong</td>\n",
      "<td class=\"bignum cases show-mobile\">8,333\n",
      "\t</td>\n",
      "<td class=\"num cases show-mobile\">112\n",
      "\t</td>\n",
      "<td class=\"chart cases wider show-mobile\"><div class=\"g-grid svelte-1jt4ctz\"><span aria-label=\"+44%\" class=\"pct-change svelte-1jt4ctz\">+44%</span>\n",
      "<img alt=\"cases trajectory last two weeks\" src=\"https://static01.nyt.com/newsgraphics/2021/coronavirus-tracking/images/svg/timeseries/HKG/HKG-cases-two-weeks.svg\"/></div>\n",
      "</td>\n",
      "<td class=\"bignum\">15.4\n",
      "\t</td>\n",
      "<td class=\"num td-end\">0.21</td>\n",
      "<td class=\"num vax td-end\"><span style=\"color: #2f7264;\">91%</span></td>\n",
      "\n",
      "\n",
      "<td class=\"name\">South Korea</td>\n",
      "<td class=\"bignum cases show-mobile\">53,383\n",
      "\t</td>\n",
      "<td class=\"num cases show-mobile\">103\n",
      "\t</td>\n",
      "<td class=\"chart cases wider show-mobile\"><div class=\"g-grid svelte-1jt4ctz\"><span aria-label=\"-1%\" class=\"pct-change svelte-1jt4ctz\">–1%</span>\n",
      "<img alt=\"cases trajectory last two weeks\" src=\"https://static01.nyt.com/newsgraphics/2021/coronavirus-tracking/images/svg/timeseries/KOR/KOR-cases-two-weeks.svg\"/></div>\n",
      "</td>\n",
      "<td class=\"bignum\">48.9\n",
      "\t</td>\n",
      "<td class=\"num td-end\">0.09</td>\n",
      "<td class=\"num vax td-end\"><span style=\"color: #2f7264;\">86%</span></td>\n",
      "\n",
      "\n",
      "<td class=\"name\">Seychelles</td>\n",
      "<td class=\"bignum cases show-mobile\">98\n",
      "\t</td>\n",
      "<td class=\"num cases show-mobile\">101\n",
      "\t</td>\n",
      "<td class=\"chart cases wider show-mobile\"><div class=\"g-grid svelte-1jt4ctz\"><span aria-label=\"—\" class=\"pct-change svelte-1jt4ctz\">—</span>\n",
      "<img alt=\"cases trajectory last two weeks\" src=\"https://static01.nyt.com/newsgraphics/2021/coronavirus-tracking/images/svg/timeseries/SYC/SYC-cases-two-weeks.svg\"/></div>\n",
      "</td>\n",
      "<td class=\"bignum\">0\n",
      "\t</td>\n",
      "<td class=\"num td-end is-dash\">—</td>\n",
      "<td class=\"num vax td-end\"><span style=\"color: #2f7264;\">84%</span></td>\n",
      "\n",
      "\n",
      "<td class=\"name\"><a href=\"/interactive/2021/world/japan-covid-cases.html\"><!-- HTML_TAG_START -->Japan<!-- HTML_TAG_END --> ›</a></td>\n",
      "<td class=\"bignum cases show-mobile\">102,761\n",
      "\t</td>\n",
      "<td class=\"num cases show-mobile\">81\n",
      "\t</td>\n",
      "<td class=\"chart cases wider show-mobile\"><div class=\"g-grid svelte-1jt4ctz\"><span aria-label=\"+37%\" class=\"pct-change svelte-1jt4ctz\">+37%</span>\n",
      "<img alt=\"cases trajectory last two weeks\" src=\"https://static01.nyt.com/newsgraphics/2021/coronavirus-tracking/images/svg/timeseries/JPN/JPN-cases-two-weeks.svg\"/></div>\n",
      "</td>\n",
      "<td class=\"bignum\">136.0\n",
      "\t</td>\n",
      "<td class=\"num td-end\">0.11</td>\n",
      "<td class=\"num vax td-end\"><span style=\"color: #2f7264;\">82%</span></td>\n",
      "\n",
      "\n",
      "<td class=\"name\">Palau</td>\n",
      "<td class=\"bignum cases show-mobile\">14\n",
      "\t</td>\n",
      "<td class=\"num cases show-mobile\">80\n",
      "\t</td>\n",
      "<td class=\"chart cases wider show-mobile\"><div class=\"g-grid svelte-1jt4ctz\"><span aria-label=\"+140%\" class=\"pct-change svelte-1jt4ctz\">+140%</span>\n",
      "<img alt=\"cases trajectory last two weeks\" src=\"https://static01.nyt.com/newsgraphics/2021/coronavirus-tracking/images/svg/timeseries/PLW/PLW-cases-two-weeks.svg\"/></div>\n",
      "</td>\n",
      "<td class=\"bignum\">0\n",
      "\t</td>\n",
      "<td class=\"num td-end is-dash\">—</td>\n",
      "<td class=\"num vax td-end is-dash\"><span style=\"color: rgba(0, 0, 0, 0.1);\">—</span></td>\n",
      "\n",
      "\n",
      "<td class=\"name\">Georgia</td>\n",
      "<td class=\"bignum cases show-mobile\">2,937\n",
      "\t</td>\n",
      "<td class=\"num cases show-mobile\">79\n",
      "\t</td>\n",
      "<td class=\"chart cases wider show-mobile\"><div class=\"g-grid svelte-1jt4ctz\"><span aria-label=\"—\" class=\"pct-change svelte-1jt4ctz\">—</span>\n",
      "<img alt=\"cases trajectory last two weeks\" src=\"https://static01.nyt.com/newsgraphics/2021/coronavirus-tracking/images/svg/timeseries/GEO/GEO-cases-two-weeks.svg\"/></div>\n",
      "</td>\n",
      "<td class=\"bignum\">0\n",
      "\t</td>\n",
      "<td class=\"num td-end is-dash\">—</td>\n",
      "<td class=\"num vax td-end is-dash\"><span style=\"color: rgba(0, 0, 0, 0.1);\">—</span></td>\n",
      "\n",
      "\n",
      "<td class=\"name\">New Zealand</td>\n",
      "<td class=\"bignum cases show-mobile\">3,864\n",
      "\t</td>\n",
      "<td class=\"num cases show-mobile\">79\n",
      "\t</td>\n",
      "<td class=\"chart cases wider show-mobile\"><div class=\"g-grid svelte-1jt4ctz\"><span aria-label=\"+25%\" class=\"pct-change svelte-1jt4ctz\">+25%</span>\n",
      "<img alt=\"cases trajectory last two weeks\" src=\"https://static01.nyt.com/newsgraphics/2021/coronavirus-tracking/images/svg/timeseries/NZL/NZL-cases-two-weeks.svg\"/></div>\n",
      "</td>\n",
      "<td class=\"bignum\">4.3\n",
      "\t</td>\n",
      "<td class=\"num td-end\">0.09</td>\n",
      "<td class=\"num vax td-end\"><span style=\"color: #2f7264;\">84%*</span></td>\n",
      "\n",
      "\n",
      "10\n"
     ]
    }
   ],
   "source": [
    "tbody = my_table.findChildren(['tbody'])\n",
    "print(len(tbody[1]))\n",
    "print(tbody[1].attrs)\n",
    "rows = tbody[1].find_all('tr')\n",
    "\n",
    "for t in tbody[1]: \n",
    "    for j in t: \n",
    "        print(j)\n",
    "\n",
    "print(len(rows))\n",
    "\n"
   ]
  },
  {
   "cell_type": "code",
   "execution_count": 104,
   "metadata": {},
   "outputs": [
    {
     "name": "stdout",
     "output_type": "stream",
     "text": [
      "Country:  Czech Republic\n",
      "Daily average deaths:  55,460\n",
      "\n",
      "Country:  San Marino\n",
      "Daily average deaths:  53\n",
      "\n",
      "Country:  Brunei\n",
      "Daily average deaths:  649\n",
      "\n",
      "Country:  Hong Kong\n",
      "Daily average deaths:  8,333\n",
      "\n",
      "Country:  South Korea\n",
      "Daily average deaths:  53,383\n",
      "\n",
      "Country:  Seychelles\n",
      "Daily average deaths:  98\n",
      "\n",
      "Country:  Japan ›\n",
      "Daily average deaths:  102,761\n",
      "\n",
      "Country:  Palau\n",
      "Daily average deaths:  14\n",
      "\n",
      "Country:  Georgia\n",
      "Daily average deaths:  2,937\n",
      "\n",
      "Country:  New Zealand\n",
      "Daily average deaths:  3,864\n",
      "\n"
     ]
    }
   ],
   "source": [
    "for row in rows: \n",
    "    country_element = row.find(\"td\", class_=\"name\")\n",
    "    deaths_element = row.find(\"td\", class_=\"bignum\")\n",
    "    \n",
    "    print(\"Country: \", country_element.text.strip())\n",
    "    print(\"Daily average deaths: \", deaths_element.text.strip())\n",
    "    print()"
   ]
  },
  {
   "cell_type": "code",
   "execution_count": null,
   "metadata": {},
   "outputs": [],
   "source": []
  }
 ],
 "metadata": {
  "kernelspec": {
   "display_name": "Python 3.8.8 ('base')",
   "language": "python",
   "name": "python3"
  },
  "language_info": {
   "codemirror_mode": {
    "name": "ipython",
    "version": 3
   },
   "file_extension": ".py",
   "mimetype": "text/x-python",
   "name": "python",
   "nbconvert_exporter": "python",
   "pygments_lexer": "ipython3",
   "version": "3.8.8"
  },
  "orig_nbformat": 4,
  "vscode": {
   "interpreter": {
    "hash": "bfcc93d1f4618e41c0020dfecb7a87a6ee1be04f14f1f92248da7a5dbd010f4a"
   }
  }
 },
 "nbformat": 4,
 "nbformat_minor": 2
}
